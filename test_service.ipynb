{
 "cells": [
  {
   "cell_type": "markdown",
   "id": "93e9869f-f23f-48a7-a5a7-45400229c6fa",
   "metadata": {},
   "source": [
    "# Test House Price Predictor Service"
   ]
  },
  {
   "cell_type": "code",
   "execution_count": 67,
   "id": "8ae53d6a-9daa-4b76-8730-06560974352a",
   "metadata": {},
   "outputs": [],
   "source": [
    "import pickle\n",
    "import requests"
   ]
  },
  {
   "cell_type": "code",
   "execution_count": 2,
   "id": "e25a9754-293b-4d29-8ecd-f14fbf8e761f",
   "metadata": {},
   "outputs": [],
   "source": [
    "# load test data\n",
    "with open('data/test_data.pickle', 'rb') as file:\n",
    "    test_data = pickle.load(file)"
   ]
  },
  {
   "cell_type": "code",
   "execution_count": 95,
   "id": "614656fa-2f72-450c-bdd8-c6bbdb5f96c5",
   "metadata": {},
   "outputs": [],
   "source": [
    "model_input = test_data[0]"
   ]
  },
  {
   "cell_type": "code",
   "execution_count": 94,
   "id": "85131af6-6776-4222-a393-4cb20e91fbc0",
   "metadata": {},
   "outputs": [
    {
     "name": "stdout",
     "output_type": "stream",
     "text": [
      "200\n"
     ]
    },
    {
     "data": {
      "text/plain": [
       "{'train': {'rmse': 31935.587, 'mae': 23830.703},\n",
       " 'test': {'rmse': 34565.065, 'mae': 25918.754}}"
      ]
     },
     "execution_count": 94,
     "metadata": {},
     "output_type": "execute_result"
    }
   ],
   "source": [
    "# test model performance\n",
    "url = 'http://0.0.0.0:5000/model_performance'\n",
    "response = requests.get(\n",
    "    url=url,\n",
    "    params=[],\n",
    ")\n",
    "print(response.status_code)\n",
    "response.json()"
   ]
  },
  {
   "cell_type": "code",
   "execution_count": 98,
   "id": "de6ec260-4655-4bab-b360-c289b49ece64",
   "metadata": {},
   "outputs": [
    {
     "name": "stdout",
     "output_type": "stream",
     "text": [
      "422\n"
     ]
    },
    {
     "data": {
      "text/plain": [
       "{'detail': [{'loc': ['body', 'property_area'],\n",
       "   'msg': 'value is not a valid integer',\n",
       "   'type': 'type_error.integer'}]}"
      ]
     },
     "execution_count": 98,
     "metadata": {},
     "output_type": "execute_result"
    }
   ],
   "source": [
    "# test prediction\n",
    "url = 'http://0.0.0.0:5000/predict'\n",
    "model_input['property_area'] = 'Hi'\n",
    "response = requests.get(\n",
    "    url=url,\n",
    "    json=test_data[0],\n",
    ")\n",
    "print(response.status_code)\n",
    "response.json()"
   ]
  },
  {
   "cell_type": "code",
   "execution_count": null,
   "id": "33541ec5-8054-4c2d-8298-26d78b1b725f",
   "metadata": {},
   "outputs": [],
   "source": []
  }
 ],
 "metadata": {
  "kernelspec": {
   "display_name": "eurekalabs",
   "language": "python",
   "name": "eurekalabs"
  },
  "language_info": {
   "codemirror_mode": {
    "name": "ipython",
    "version": 3
   },
   "file_extension": ".py",
   "mimetype": "text/x-python",
   "name": "python",
   "nbconvert_exporter": "python",
   "pygments_lexer": "ipython3",
   "version": "3.10.6"
  }
 },
 "nbformat": 4,
 "nbformat_minor": 5
}
